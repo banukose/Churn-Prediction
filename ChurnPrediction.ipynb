{
 "cells": [
  {
   "cell_type": "markdown",
   "metadata": {},
   "source": [
    "### Import libraries"
   ]
  },
  {
   "cell_type": "code",
   "execution_count": null,
   "metadata": {},
   "outputs": [],
   "source": [
    "# Import required packages\n",
    "\n",
    "import pandas as pd\n",
    "import numpy as np\n",
    "from sklearn.metrics import roc_auc_score\n",
    "from sklearn.model_selection import train_test_split\n",
    "from sklearn.dummy import DummyClassifier\n",
    "from matplotlib import pyplot as plt\n",
    "import seaborn as sns\n",
    "from sklearn import preprocessing\n",
    "from sklearn.preprocessing import OneHotEncoder\n",
    "from sklearn.metrics import accuracy_score\n",
    "from sklearn.model_selection import cross_val_score\n",
    "from sklearn.metrics import plot_roc_curve\n",
    "from sklearn.ensemble import RandomForestClassifier\n",
    "from sklearn.linear_model import LogisticRegression\n",
    "from sklearn.ensemble import AdaBoostClassifier\n",
    "from sklearn.neighbors import KNeighborsClassifier\n",
    "from sklearn.tree import DecisionTreeClassifier\n"
   ]
  },
  {
   "cell_type": "markdown",
   "metadata": {},
   "source": [
    "## Load the Data"
   ]
  },
  {
   "cell_type": "code",
   "execution_count": null,
   "metadata": {},
   "outputs": [],
   "source": [
    "train_df = pd.read_csv(\"path\")\n",
    "print('train_df Shape:', train_df.shape)\n",
    "train_df.head()"
   ]
  },
  {
   "cell_type": "code",
   "execution_count": null,
   "metadata": {},
   "outputs": [],
   "source": [
    "test_df = pd.read_csv(\"path\")\n",
    "print('test_df Shape:', test_df.shape)\n",
    "test_df.head()"
   ]
  },
  {
   "cell_type": "markdown",
   "metadata": {},
   "source": [
    "## Explore, Clean, Validate, and Visualize the Data\n"
   ]
  },
  {
   "cell_type": "code",
   "execution_count": null,
   "metadata": {},
   "outputs": [],
   "source": [
    "train_df.info()\n",
    "train_df.isnull().sum()\n",
    "train_df.head()\n"
   ]
  },
  {
   "cell_type": "code",
   "execution_count": null,
   "metadata": {},
   "outputs": [],
   "source": [
    "test_df.info()\n",
    "test_df.isnull().sum()\n",
    "test_df.tail()\n"
   ]
  },
  {
   "cell_type": "code",
   "execution_count": null,
   "metadata": {},
   "outputs": [],
   "source": [
    "# checked data\n",
    "print(train_df['Gender'].unique())\n",
    "print(train_df['PaperlessBilling'].unique())\n",
    "print(train_df['MultiDeviceAccess'].unique())\n",
    "print(train_df['ParentalControl'].unique())\n",
    "print(train_df['SubtitlesEnabled'].unique())\n",
    "print(train_df['DeviceRegistered'].unique())\n",
    "print(train_df['ContentType'].unique())\n",
    "print(train_df['SubscriptionType'].unique())\n",
    "print(train_df['PaymentMethod'].unique())\n",
    "print(train_df['GenrePreference'].unique())\n"
   ]
  },
  {
   "cell_type": "code",
   "execution_count": null,
   "metadata": {},
   "outputs": [],
   "source": [
    "#checked data\n",
    "print(train_df['Gender'].value_counts())\n",
    "print(train_df['PaperlessBilling'].value_counts())\n",
    "print(train_df['MultiDeviceAccess'].value_counts())\n",
    "print(train_df['ParentalControl'].value_counts())\n",
    "print(train_df['SubtitlesEnabled'].value_counts())\n",
    "print(train_df['DeviceRegistered'].value_counts())\n",
    "print(train_df['ContentType'].value_counts())\n",
    "print(train_df['SubscriptionType'].value_counts())\n",
    "print(train_df['PaymentMethod'].value_counts())\n",
    "print(train_df['GenrePreference'].value_counts())"
   ]
  },
  {
   "cell_type": "code",
   "execution_count": null,
   "metadata": {},
   "outputs": [],
   "source": [
    "plt.figure(figsize=(10,10))\n",
    "\n",
    "sns.heatmap(train_df.corr()['Churn'].sort_values(ascending=False).to_frame(), annot=True)\n",
    "\n",
    "plt.title('Correlation of Features with Churn', fontsize=16, fontweight='bold', pad=20)\n",
    "plt.show()"
   ]
  },
  {
   "cell_type": "code",
   "execution_count": null,
   "metadata": {},
   "outputs": [],
   "source": [
    "# apply one hot encoded\n",
    "one_hot_encoded_data = pd.get_dummies(train_df, columns = ['Gender', 'PaperlessBilling', 'MultiDeviceAccess', 'ParentalControl', 'SubtitlesEnabled', 'DeviceRegistered', 'ContentType', 'SubscriptionType', 'PaymentMethod', 'GenrePreference'])\n",
    "print(one_hot_encoded_data)"
   ]
  },
  {
   "cell_type": "code",
   "execution_count": null,
   "metadata": {},
   "outputs": [],
   "source": [
    "# change column name for the readeble purposes\n",
    "one_hot_encoded_data.rename(columns={'PaymentMethod_Bank transfer':'PaymentMethod_Bank_transfer'}, inplace=True)\n",
    "one_hot_encoded_data.rename(columns={'PaymentMethod_Credit card':'PaymentMethod_Credit_card'}, inplace=True)\n",
    "one_hot_encoded_data.rename(columns={'PaymentMethod_Electronic check':'PaymentMethod_Electronic_check'}, inplace=True)\n",
    "one_hot_encoded_data.rename(columns={'PaymentMethod_Mailed check':'PaymentMethod_Mailed_check'}, inplace=True)\n",
    "one_hot_encoded_data.rename(columns={'ContentType_TV Shows':'ContentType_TV_Shows'}, inplace=True)\n",
    "\n",
    "# checked data\n",
    "one_hot_encoded_data.info()\n"
   ]
  },
  {
   "cell_type": "code",
   "execution_count": null,
   "metadata": {},
   "outputs": [],
   "source": [
    "# checked data\n",
    "print(one_hot_encoded_data['Gender_Female'].unique())\n",
    "print(one_hot_encoded_data['Gender_Male'].unique())\n",
    "print(one_hot_encoded_data['PaperlessBilling_No'].unique())\n",
    "print(one_hot_encoded_data['PaperlessBilling_Yes'].unique())\n",
    "print(one_hot_encoded_data['ParentalControl_No'].unique())\n",
    "print(one_hot_encoded_data['ParentalControl_Yes'].unique())\n",
    "print(one_hot_encoded_data['SubtitlesEnabled_No'].unique())\n",
    "print(one_hot_encoded_data['SubtitlesEnabled_Yes'].unique())\n",
    "print(one_hot_encoded_data['DeviceRegistered_Computer'].unique())\n",
    "print(one_hot_encoded_data['DeviceRegistered_Mobile'].unique())\n",
    "print(one_hot_encoded_data['DeviceRegistered_TV'].unique())\n",
    "print(one_hot_encoded_data['DeviceRegistered_Tablet'].unique())\n",
    "\n",
    "print(one_hot_encoded_data['ContentType_Both'].unique())\n",
    "print(one_hot_encoded_data['ContentType_Movies'].unique())\n",
    "print(one_hot_encoded_data['ContentType_TV_Shows'].unique())\n",
    "print(one_hot_encoded_data['SubscriptionType_Basic'].unique())\n",
    "print(one_hot_encoded_data['SubscriptionType_Premium'].unique())\n",
    "print(one_hot_encoded_data['SubscriptionType_Standard'].unique())\n",
    "print(one_hot_encoded_data['PaymentMethod_Bank_transfer'].unique())\n",
    "print(one_hot_encoded_data['PaymentMethod_Credit_card'].unique())\n",
    "print(one_hot_encoded_data['PaymentMethod_Electronic_check'].unique())\n",
    "print(one_hot_encoded_data['PaymentMethod_Mailed_check'].unique())\n",
    "print(one_hot_encoded_data['GenrePreference_Action'].unique())\n",
    "print(one_hot_encoded_data['GenrePreference_Comedy'].unique())\n",
    "\n",
    "print(one_hot_encoded_data['GenrePreference_Drama'].unique())\n",
    "print(one_hot_encoded_data['GenrePreference_Fantasy'].unique())\n",
    "print(one_hot_encoded_data['GenrePreference_Sci-Fi'].unique())\n"
   ]
  },
  {
   "cell_type": "code",
   "execution_count": null,
   "metadata": {},
   "outputs": [],
   "source": [
    "# apply one hot encoded\n",
    "one_hot_encoded_test_data = pd.get_dummies(test_df, columns = ['Gender', 'PaperlessBilling', 'MultiDeviceAccess', 'ParentalControl', 'SubtitlesEnabled', 'DeviceRegistered', 'ContentType', 'SubscriptionType', 'PaymentMethod', 'GenrePreference'])\n",
    "print(one_hot_encoded_test_data)"
   ]
  },
  {
   "cell_type": "code",
   "execution_count": null,
   "metadata": {},
   "outputs": [],
   "source": [
    "# change column name for the readeble purposes\n",
    "one_hot_encoded_test_data.rename(columns={'PaymentMethod_Bank transfer':'PaymentMethod_Bank_transfer'}, inplace=True)\n",
    "one_hot_encoded_test_data.rename(columns={'PaymentMethod_Credit card':'PaymentMethod_Credit_card'}, inplace=True)\n",
    "one_hot_encoded_test_data.rename(columns={'PaymentMethod_Electronic check':'PaymentMethod_Electronic_check'}, inplace=True)\n",
    "one_hot_encoded_test_data.rename(columns={'PaymentMethod_Mailed check':'PaymentMethod_Mailed_check'}, inplace=True)\n",
    "one_hot_encoded_test_data.rename(columns={'ContentType_TV Shows':'ContentType_TV_Shows'}, inplace=True)\n",
    "\n",
    "# checked data\n",
    "one_hot_encoded_test_data.info()"
   ]
  },
  {
   "cell_type": "code",
   "execution_count": null,
   "metadata": {},
   "outputs": [],
   "source": [
    "# visualization\n",
    "sns.boxplot(x='Churn', y='MonthlyCharges', data=one_hot_encoded_data).set(title='Churn vs. MonthlyChanges')\n"
   ]
  },
  {
   "cell_type": "code",
   "execution_count": null,
   "metadata": {},
   "outputs": [],
   "source": [
    "plt.figure(figsize=(20,20))\n",
    "\n",
    "sns.heatmap(one_hot_encoded_data.corr()['Churn'].sort_values(ascending=False).to_frame(), annot=True, cmap=\"YlGnBu\")\n",
    "\n",
    "plt.title('Correlation of Features with Churn', fontsize=16, fontweight='bold', pad=20)\n",
    "plt.show()"
   ]
  },
  {
   "cell_type": "code",
   "execution_count": null,
   "metadata": {},
   "outputs": [],
   "source": [
    "plt.figure(figsize=(25,25))\n",
    "\n",
    "# plotting correlation heatmap \n",
    "dataplot=sns.heatmap(one_hot_encoded_data.corr(), annot = True, linewidth = 2) \n",
    "  \n",
    "# displaying heatmap \n",
    "plt.show()"
   ]
  },
  {
   "cell_type": "markdown",
   "metadata": {},
   "source": [
    "## Make predictions \n"
   ]
  },
  {
   "cell_type": "code",
   "execution_count": null,
   "metadata": {},
   "outputs": [],
   "source": [
    "one_hot_encoded_data = one_hot_encoded_data.drop(['CustomerID',  \n",
    "                                                  'TotalCharges', 'Gender_Male', 'Gender_Female'],axis=1)\n",
    "\n",
    "X = one_hot_encoded_data.drop(['Churn'],axis=1)\n",
    "y = one_hot_encoded_data['Churn']\n"
   ]
  },
  {
   "cell_type": "code",
   "execution_count": null,
   "metadata": {},
   "outputs": [],
   "source": [
    "#one_hot_encoded_data = preprocessing.normalize(one_hot_encoded_data)"
   ]
  },
  {
   "cell_type": "code",
   "execution_count": null,
   "metadata": {},
   "outputs": [],
   "source": [
    "X_train, X_test, y_train, y_test = train_test_split(X, y, test_size=0.33, random_state=42)\n",
    "\n",
    "\n",
    "# -----------------------------------\n",
    "# random forest classifier -- 82-73\n",
    "\n",
    "rf = RandomForestClassifier(random_state=46)\n",
    "dummy_clf = rf.fit(X_train,y_train)\n",
    "\n",
    "preds = rf.predict(X_test)\n",
    "print('Random forest acc : ')\n",
    "print(accuracy_score(preds,y_test))\n",
    "score = cross_val_score(dummy_clf, X, y, cv=10, scoring='roc_auc').mean() \n",
    "print(score)\n",
    "# -------------------------------------\n",
    "\n",
    "# -------------------------------------\n",
    "# Decision tree classifier -- 72 - 56\n",
    "\n",
    "dt = DecisionTreeClassifier(random_state=46)\n",
    "dummy_clf = dt.fit(X_train,y_train)\n",
    "\n",
    "preds = dt.predict(X_test)\n",
    "print('Decision tree : ')\n",
    "print(accuracy_score(preds,y_test))\n",
    "score = cross_val_score(dummy_clf, X, y, cv=10, scoring='roc_auc').mean() \n",
    "print(score)\n",
    "# -------------------------------------\n",
    "\n",
    "# ------------------------------------- \n",
    "# KNeighbors Classifier -- 79-63\n",
    "\n",
    "kn = KNeighborsClassifier()\n",
    "dummy_clf = kn.fit(X_train,y_train)\n",
    "\n",
    "preds = kn.predict(X_test)\n",
    "print('KNeighbors Classifier : ')\n",
    "print(accuracy_score(preds,y_test))\n",
    "score = cross_val_score(dummy_clf, X, y, cv=10, scoring='roc_auc').mean() \n",
    "print(score)\n",
    "# -------------------------------------\n",
    "\n",
    "# -------------------------------------\n",
    "# Ada Boost classifier -- 82-74,28\n",
    "\n",
    "ab = AdaBoostClassifier(random_state=46)\n",
    "dummy_clf = ab.fit(X_train,y_train)\n",
    "\n",
    "preds = ab.predict(X_test)\n",
    "print('Ada Boost : ')\n",
    "print(accuracy_score(preds,y_test))\n",
    "score = cross_val_score(dummy_clf, X, y, cv=10, scoring='roc_auc').mean() \n",
    "print(score)\n",
    "# -------------------------------------\n",
    "\n",
    "\n",
    "# ------------------------------------- \n",
    "# Logistic regression -- 82-74,77\n",
    "\n",
    "lg = LogisticRegression(random_state=46)\n",
    "dummy_clf = lg.fit(X_train,y_train)\n",
    "\n",
    "preds = lg.predict(X_test)\n",
    "print('Logistic regression : ')\n",
    "print(accuracy_score(preds,y_test))\n",
    "score = cross_val_score(dummy_clf, X, y, cv=10, scoring='roc_auc').mean() \n",
    "print(score)\n",
    "# -------------------------------------\n"
   ]
  },
  {
   "cell_type": "code",
   "execution_count": null,
   "metadata": {},
   "outputs": [],
   "source": [
    "# Plotting the ROC curve\n",
    "\n",
    "plot_roc_curve(dummy_clf, X_test, y_test)\n",
    "plt.show()"
   ]
  },
  {
   "cell_type": "code",
   "execution_count": null,
   "metadata": {},
   "outputs": [],
   "source": [
    "predicted_probability = dummy_clf.predict_proba(one_hot_encoded_test_data.drop(['CustomerID'], axis=1))[:, 1]"
   ]
  },
  {
   "cell_type": "code",
   "execution_count": null,
   "metadata": {},
   "outputs": [],
   "source": [
    "prediction_df = pd.DataFrame({'CustomerID': one_hot_encoded_test_data[['CustomerID']].values[:, 0],\n",
    "                             'predicted_probability': predicted_probability})"
   ]
  },
  {
   "cell_type": "code",
   "execution_count": null,
   "metadata": {},
   "outputs": [],
   "source": [
    "print(prediction_df.shape)\n",
    "prediction_df.head(10)"
   ]
  }
 ],
 "metadata": {
  "kernelspec": {
   "display_name": "Python 3",
   "language": "python",
   "name": "python3"
  },
  "language_info": {
   "codemirror_mode": {
    "name": "ipython",
    "version": 3
   },
   "file_extension": ".py",
   "mimetype": "text/x-python",
   "name": "python",
   "nbconvert_exporter": "python",
   "pygments_lexer": "ipython3",
   "version": "3.7.6"
  }
 },
 "nbformat": 4,
 "nbformat_minor": 4
}
